{
 "cells": [
  {
   "cell_type": "code",
   "execution_count": 1,
   "id": "f14be137",
   "metadata": {},
   "outputs": [],
   "source": [
    "from sklearn.impute import SimpleImputer\n",
    "from sklearn.experimental import enable_iterative_imputer \n",
    "from sklearn.impute import IterativeImputer\n",
    "from sklearn.impute import KNNImputer\n",
    "from sklearn.model_selection import cross_val_score,train_test_split,GridSearchCV,KFold\n",
    "from sklearn.ensemble import IsolationForest\n",
    "import numpy as np\n",
    "import matplotlib.pyplot as plt\n",
    "import pandas as pd\n",
    "from tqdm.notebook import tqdm\n",
    "from scipy import stats\n",
    "from sklearn import feature_selection\n",
    "from sklearn.linear_model import LinearRegression\n",
    "from sklearn.preprocessing import StandardScaler,RobustScaler,PowerTransformer\n",
    "from xgboost import XGBRegressor\n",
    "from sklearn.metrics import r2_score\n",
    "from sklearn.gaussian_process import GaussianProcessRegressor\n",
    "from sklearn.gaussian_process.kernels import RationalQuadratic\n",
    "from scipy import stats\n",
    "\n",
    "def standardize_data(X_train,X_test) :\n",
    "    r_train = RobustScaler()\n",
    "    r_test = RobustScaler()\n",
    "    \n",
    "    p_train = PowerTransformer()\n",
    "    r_train.fit(X_train)\n",
    "    r_test.fit(X_test)\n",
    "    \n",
    "    scaled_train_data = r_train.transform(X_train)\n",
    "    scaled_test_data = r_train.transform(X_test)\n",
    "    \n",
    "    return scaled_train_data,scaled_test_data"
   ]
  },
  {
   "cell_type": "code",
   "execution_count": 2,
   "id": "493aa6d4",
   "metadata": {},
   "outputs": [],
   "source": [
    "X_test_raw = pd.read_csv(\"X_test.csv\", index_col=0).values\n",
    "X_train_raw = pd.read_csv(\"X_train.csv\", index_col=0).values\n",
    "y_train_raw = pd.read_csv(\"y_train.csv\", index_col=0).values"
   ]
  },
  {
   "cell_type": "code",
   "execution_count": 3,
   "id": "483ffa76",
   "metadata": {},
   "outputs": [],
   "source": [
    "#Define some imputers\n",
    "imputers = [\n",
    "    SimpleImputer(missing_values=np.nan, strategy='median'),\n",
    "    KNNImputer(n_neighbors=15, weights=\"uniform\")]"
   ]
  },
  {
   "cell_type": "code",
   "execution_count": 4,
   "id": "640d8960",
   "metadata": {},
   "outputs": [],
   "source": [
    "def imputation(imputer, X_train, X_test):\n",
    "    imputer.fit(X_train)\n",
    "    X_train_0 = imputer.transform(X_train)\n",
    "    X_test_0 = imputer.transform(X_test)\n",
    "    return X_train_0, X_test_0\n",
    "\n",
    "def features_selection(X_train, y_train, X_test,  n_features):\n",
    "    from sklearn import feature_selection\n",
    "    model = feature_selection.SelectKBest(score_func=feature_selection.f_regression,k=n_features)\n",
    "    model = model.fit(X_train, y_train)\n",
    "    cols = model.get_support(indices=True)   \n",
    "    return cols\n",
    "\n",
    "def outlier_detection(X_train, y_train):\n",
    "    clf = IsolationForest(max_samples=100, random_state = 4)\n",
    "    preds = clf.fit_predict(X_train)\n",
    "    X_train_1 = X_train[preds==1]\n",
    "    y_train_1 = y_train[preds==1]\n",
    "    return X_train_1, y_train_1"
   ]
  },
  {
   "cell_type": "code",
   "execution_count": 5,
   "id": "9a35a0be",
   "metadata": {},
   "outputs": [],
   "source": [
    "# imputation with median\n",
    "X_train_0, X_test_0 = imputation(imputers[0], X_train_raw, X_test_raw)\n",
    "X_train_1,X_test_1 = standardize_data(X_train_0,X_test_0)"
   ]
  },
  {
   "cell_type": "code",
   "execution_count": 6,
   "id": "4fef941c",
   "metadata": {
    "scrolled": true
   },
   "outputs": [
    {
     "name": "stderr",
     "output_type": "stream",
     "text": [
      "/Users/zhulongdi/opt/anaconda3/lib/python3.9/site-packages/sklearn/feature_selection/_univariate_selection.py:289: RuntimeWarning: invalid value encountered in true_divide\n",
      "  correlation_coefficient /= X_norms\n"
     ]
    }
   ],
   "source": [
    "#Feature selection using SelectKbest\n",
    "selected_features = features_selection(X_train_1, y_train_raw.ravel(), X_test_1,n_features=180)"
   ]
  },
  {
   "cell_type": "code",
   "execution_count": 7,
   "id": "6f8925a0",
   "metadata": {},
   "outputs": [
    {
     "name": "stdout",
     "output_type": "stream",
     "text": [
      "[  2  15  21  23  26  27  29  40  69  77  87  89  92  98 100 101 107 113\n",
      " 114 115 132 133 141 144 146 151 159 169 172 177 193 194 200 203 209 213\n",
      " 214 218 220 230 231 232 233 242 245 248 254 260 263 276 278 283 286 287\n",
      " 288 298 300 306 309 310 312 315 318 319 320 325 326 327 334 342 345 349\n",
      " 350 358 359 362 369 370 374 380 381 383 395 399 402 410 414 415 425 431\n",
      " 437 440 445 452 456 458 465 479 484 485 493 496 507 512 517 520 523 528\n",
      " 531 538 542 543 546 547 554 558 562 565 571 590 594 596 602 603 608 610\n",
      " 612 613 621 633 636 640 641 642 644 648 649 654 657 659 665 668 671 672\n",
      " 675 677 681 690 696 702 703 711 712 713 720 721 725 726 731 734 742 745\n",
      " 748 759 766 768 769 773 774 777 778 780 783 788 796 801 817 819 823 824]\n"
     ]
    }
   ],
   "source": [
    "print(selected_features)"
   ]
  },
  {
   "cell_type": "code",
   "execution_count": 8,
   "id": "6abe5e44",
   "metadata": {},
   "outputs": [],
   "source": [
    "# data imputation for X_train and X_test, then using SelectKbest to pick up the best 200 features\n",
    "new_train = X_train_raw[:,selected_features]\n",
    "new_test = X_test_raw[:,selected_features]\n",
    "new_train1,new_test1 = standardize_data(new_train,new_test)\n",
    "X_train_im, X_test_im = imputation(imputers[1], new_train1, new_test1)"
   ]
  },
  {
   "cell_type": "code",
   "execution_count": 9,
   "id": "143407d9",
   "metadata": {},
   "outputs": [],
   "source": [
    "# outlier detection with isolation forest\n",
    "X_train_o,y_train_o = outlier_detection(X_train_im,y_train_raw)"
   ]
  },
  {
   "cell_type": "code",
   "execution_count": 10,
   "id": "12bfec4f",
   "metadata": {},
   "outputs": [],
   "source": [
    "X_train= X_train_o\n",
    "y_train=y_train_o\n",
    "X_test=X_test_im"
   ]
  },
  {
   "cell_type": "code",
   "execution_count": 11,
   "id": "da4bd126",
   "metadata": {},
   "outputs": [
    {
     "data": {
      "text/plain": [
       "(1103, 180)"
      ]
     },
     "execution_count": 11,
     "metadata": {},
     "output_type": "execute_result"
    }
   ],
   "source": [
    "X_train.shape"
   ]
  },
  {
   "cell_type": "code",
   "execution_count": 12,
   "id": "7a5badc0",
   "metadata": {},
   "outputs": [],
   "source": [
    "class Gaussian_r():\n",
    "    def __init__(self, X_train, y_train, X_test):\n",
    "        self.X_train = X_train\n",
    "        self.y_train = y_train\n",
    "        self.X_test = X_test\n",
    "       \n",
    "        self.regressor_gauss = GaussianProcessRegressor(kernel = RationalQuadratic(),random_state = 0,normalize_y = True)\n",
    "             \n",
    "\n",
    "    def predict(self, write2csv = True):\n",
    "        self.regressor_gauss.fit(self.X_train, self.y_train)\n",
    "        pred = self.regressor_gauss.predict(self.X_test)\n",
    "\n",
    "        if write2csv is True:\n",
    "            submission = np.hstack([np.arange(0, len(pred)).reshape(-1,1), pred.reshape(-1,1)]) \n",
    "            submission_pd = pd.DataFrame(submission, columns=['id','y'])\n",
    "            submission_pd.to_csv('submission.csv', index=None)\n",
    "\n",
    "        return pred "
   ]
  },
  {
   "cell_type": "code",
   "execution_count": 13,
   "id": "a68821ba",
   "metadata": {},
   "outputs": [],
   "source": [
    "gr = Gaussian_r(X_train, y_train.ravel(), X_test)\n",
    "pred = gr.predict(write2csv=True)"
   ]
  }
 ],
 "metadata": {
  "kernelspec": {
   "display_name": "Python 3 (ipykernel)",
   "language": "python",
   "name": "python3"
  },
  "language_info": {
   "codemirror_mode": {
    "name": "ipython",
    "version": 3
   },
   "file_extension": ".py",
   "mimetype": "text/x-python",
   "name": "python",
   "nbconvert_exporter": "python",
   "pygments_lexer": "ipython3",
   "version": "3.9.9"
  }
 },
 "nbformat": 4,
 "nbformat_minor": 5
}
