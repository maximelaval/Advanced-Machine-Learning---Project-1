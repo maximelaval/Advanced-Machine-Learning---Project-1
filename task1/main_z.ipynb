import numpy as np
import matplotlib.pyplot as plt
import pandas as pd
from sklearn import feature_selection
from sklearn.linear_model import LinearRegression

X_test = pd.read_csv("X_test.csv", index_col=0).values
X_train = pd.read_csv("X_train.csv", index_col=0).values
y_train = pd.read_csv("y_train.csv", index_col=0).values

df_train = pd.DataFrame(X_train)
